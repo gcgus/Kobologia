{
 "cells": [
  {
   "cell_type": "code",
   "execution_count": 1,
   "id": "c16a930e",
   "metadata": {},
   "outputs": [],
   "source": [
    "from scipy.io import wavfile\n",
    "from IPython.display import Audio\n",
    "import numpy as np\n",
    "import matplotlib.pyplot as plt\n",
    "import os"
   ]
  },
  {
   "cell_type": "markdown",
   "id": "80def73b",
   "metadata": {},
   "source": [
    "# Libreta utilizada para la creción de bucles a partir de muestras de sonido"
   ]
  },
  {
   "cell_type": "code",
   "execution_count": 3,
   "id": "da922b4e",
   "metadata": {},
   "outputs": [],
   "source": [
    "path='./sol/'"
   ]
  },
  {
   "cell_type": "code",
   "execution_count": 5,
   "id": "bf0e6347",
   "metadata": {},
   "outputs": [],
   "source": [
    "dir=\"cut\"\n",
    "if not os.path.exists(dir):\n",
    "    os.mkdir(dir)\n",
    "for f in os.listdir(path):\n",
    "    sr, data = wavfile.read(os.path.join(path, f))\n",
    "    init = 0.7\n",
    "    end = 0.9\n",
    "    dur=end-init\n",
    "    data_trim= data[round(init*sr):round(end*sr)]\n",
    "    zero_crosses = np.nonzero(np.diff(data_trim > 0))[0]\n",
    "    minr=100000\n",
    "    mini=0\n",
    "    wind=10\n",
    "    for i in range(0,len(zero_crosses)):\n",
    "        if(data_trim[zero_crosses[i]+1]>0):\n",
    "            zero_crosses = zero_crosses[i:]\n",
    "            break\n",
    "    for i in range(1,len(zero_crosses)):\n",
    "        if(zero_crosses[i]+wind>len(data_trim)):\n",
    "            break\n",
    "        rest=np.mean(np.abs(data_trim[zero_crosses[0]:zero_crosses[0]+wind]-data_trim[zero_crosses[i]:zero_crosses[i]+wind]))\n",
    "        if(rest<minr):\n",
    "            minr=rest\n",
    "            mini=i\n",
    "            \n",
    "    data_zero=data_trim[zero_crosses[0]:zero_crosses[mini]]\n",
    "    wdur=1\n",
    "    loop = np.tile(data_zero,round((wdur*sr)/len(data_zero)))\n",
    "    wavfile.write(os.path.join(dir, f),sr,loop)\n",
    "    \n",
    "\n",
    "\n",
    "    "
   ]
  }
 ],
 "metadata": {
  "kernelspec": {
   "display_name": "Python 3 (ipykernel)",
   "language": "python",
   "name": "python3"
  },
  "language_info": {
   "codemirror_mode": {
    "name": "ipython",
    "version": 3
   },
   "file_extension": ".py",
   "mimetype": "text/x-python",
   "name": "python",
   "nbconvert_exporter": "python",
   "pygments_lexer": "ipython3",
   "version": "3.9.7"
  }
 },
 "nbformat": 4,
 "nbformat_minor": 5
}
